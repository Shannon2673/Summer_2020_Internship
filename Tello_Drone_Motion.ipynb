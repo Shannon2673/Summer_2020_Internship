{
 "cells": [
  {
   "cell_type": "markdown",
   "metadata": {},
   "source": [
    "## Drone Notebook\n",
    "\n",
    "This jupyter notebook is part of my 2020 summmer internship through Pacific University in Dr. Dawes' lab.\n",
    "\n",
    "The objective of this notebook is to write and implement code to maneuver a Tello Edu drone, with the final goal of aligning two drones for optics experiments."
   ]
  },
  {
   "cell_type": "code",
   "execution_count": null,
   "metadata": {},
   "outputs": [],
   "source": [
    "import time\n",
    "import socket\n",
    "from tello import Tello\n",
    "\n"
   ]
  },
  {
   "cell_type": "code",
   "execution_count": null,
   "metadata": {},
   "outputs": [],
   "source": []
  },
  {
   "cell_type": "markdown",
   "metadata": {},
   "source": [
    "#### To Start\n",
    "1. make sure tello.py in in same folder as this notebook\n",
    "2. connect to Tello Drone wifi network"
   ]
  },
  {
   "cell_type": "markdown",
   "metadata": {},
   "source": [
    "Some example code:\n",
    "\n",
    "code modified from example on https://github.com/alecGraves/tello-udp"
   ]
  },
  {
   "cell_type": "code",
   "execution_count": null,
   "metadata": {},
   "outputs": [],
   "source": [
    "# Declare a tello object\n",
    "#this is a lot like turtles in 3D\n",
    "drone = Tello()\n",
    "\n",
    "# enable network commands on the drone\n",
    "drone.send(\"command\")\n",
    "\n",
    "# takeoff\n",
    "drone.send(\"takeoff\")\n",
    "\n",
    "start = time.time()\n",
    "#initializes a start time\n",
    "\n",
    "# wait 30 seconds\n",
    "while time.time() - start < 30:\n",
    "    # get battery info to prevent tello connection from timing-out\n",
    "    # since tello auto-lands after 15 secs w/o a command\n",
    "    drone.send(\"battery?\")\n",
    "    time.sleep(1)\n",
    "\n",
    "# land the tello\n",
    "drone.send(\"land\")"
   ]
  },
  {
   "cell_type": "code",
   "execution_count": null,
   "metadata": {},
   "outputs": [],
   "source": [
    "def real_time(drone,log=False):\n",
    "    \"\"\"This code is designed to put the user's tello drone into flight, then prompt the user \n",
    "    for commands in real time, as opposed to writing a long stream of commands in one code \n",
    "    cell\n",
    "    \n",
    "    parameters:\n",
    "    drone: tello drone object\n",
    "    optional boolean log: if true will return a log of commands used\"\"\"\n",
    "    \n",
    "    drone.send(\"command\")\n",
    "    #if the drone hasn't already been initialized to get commands this will do that\n",
    "    print(\"Type tello command and hit enter. Type and send 'quit' to exit this program\")\n",
    "    \n",
    "    running = True\n",
    "    \n",
    "    flight_log = []\n",
    "    \n",
    "    while running:\n",
    "        #starts an infinite loop\n",
    "        \n",
    "        task = input('')\n",
    "    #sends the message to the drone  \n",
    "        drone.send(task)\n",
    "        \n",
    "        if task == 'land':\n",
    "            running = False\n",
    "            \n",
    "        if log == True:\n",
    "            flight_log.append(task)\n",
    "            \n",
    "    if log == True:\n",
    "        return flight_log\n",
    "        \n",
    "        \n",
    "                 "
   ]
  },
  {
   "cell_type": "code",
   "execution_count": null,
   "metadata": {},
   "outputs": [],
   "source": [
    "real_time(drone)\n",
    "\n",
    "## notes: this works!"
   ]
  },
  {
   "cell_type": "code",
   "execution_count": null,
   "metadata": {},
   "outputs": [],
   "source": [
    "def polygon(drone,sides):\n",
    "    \"\"\"code to make drone take off fly in the polygon shape with specified sides\n",
    "    \n",
    "    drone: drone object\n",
    "    sides: int number of sides of shape\"\"\"\n",
    "    \n",
    "    \n",
    "    \n",
    "    \n",
    "    angle = 360/sides\n",
    "    angle = int(angle)# has to be an int!\n",
    "    \n",
    "    drone.send('command')\n",
    "    drone.send('takeoff')\n",
    "     \n",
    "    #creates a start time\n",
    "    start = time.time()\n",
    "    \n",
    "    if time.time()% 5 == 0:\n",
    "        # five second delay\n",
    "        \n",
    "        for i in range(0, sides):\n",
    "            print(i)\n",
    "\n",
    "            drone.send('forward 20')\n",
    "            task = 'cw {0}'.format(angle)\n",
    "            print(drone.send('battery?'))\n",
    "            drone.send(task)\n",
    "    drone.send('land')\n",
    "        "
   ]
  },
  {
   "cell_type": "code",
   "execution_count": null,
   "metadata": {},
   "outputs": [],
   "source": [
    "polygon(drone,5) \n",
    "\n",
    "## notes my drone will follow some of the commands but not all of them\n",
    "# I might be able to fix this by adding a delay"
   ]
  },
  {
   "cell_type": "code",
   "execution_count": null,
   "metadata": {},
   "outputs": [],
   "source": [
    "drone.send(\"battery?\")"
   ]
  },
  {
   "cell_type": "markdown",
   "metadata": {},
   "source": [
    "## checking for drift\n",
    "\n",
    "So in the code below I will be checking for the drone's drift from a hovering point, with little to no wind/breeze during an indoor test with the windows closed"
   ]
  },
  {
   "cell_type": "code",
   "execution_count": null,
   "metadata": {},
   "outputs": [],
   "source": [
    "def drift_test(drone, drift_time):\n",
    "    \"\"\" This function returns data of how long it takes the tello drone to return to\n",
    "    a starting location after drifting from that start\"\"\"\n",
    "\n",
    "    drone.send('mon')\n",
    "    drone.send('mdirection 0')\n",
    "    drone.send('takeoff')\n",
    "    #puts drone in air with mission pad detection on for pad below drone\n",
    "\n",
    "    drone.send('go 0 0 0 m1')\n",
    "    #places drone at center of mission pad 1\n",
    "\n",
    "\n",
    "    start = time.time()\n",
    "    #starts a timer\n",
    "    \n",
    "    if time.time() - drift_time < 0:\n",
    "        drone.send(\"battery?\")\n",
    "        time.sleep(1)\n",
    "\n",
    "    elif (time.time() - drift_time) >= 0 :\n",
    "        reset = time.time()\n",
    "        drone.send('go 0 0 0 m1')\n",
    "        reset_time = (time.time() - reset)\n",
    "    print( reset_time )\n",
    "    return reset_time\n",
    "    \n",
    "\n",
    "\n"
   ]
  },
  {
   "cell_type": "code",
   "execution_count": null,
   "metadata": {},
   "outputs": [],
   "source": [
    "drone.send('command')\n",
    "drift_test(drone,10)\n"
   ]
  },
  {
   "cell_type": "markdown",
   "metadata": {},
   "source": [
    "### List of Commands:\n",
    "#### (not all of them)\n",
    "\n",
    "Setting commands:\n",
    "\n",
    "* speed x\n",
    "\n",
    "sets the speed between 10 and 100 ( the manual didn't specify units, but I'm assuming cm/s?)\n",
    "\n",
    "ex: \"speed 10\"\n",
    "\n",
    "Mission pad commands:\n",
    "\n",
    "* mon\n",
    "\n",
    "turns on mission pad detection\n",
    "\n",
    "* moff \n",
    "\n",
    "turns off mission pad detection\n",
    "\n",
    "* mdirection x \n",
    "\n",
    "sets mission pad detection direction (must turn on detection first)\n",
    "\n",
    "0 = downward / 1 = forward / 2 = both\n",
    "\n",
    "Motion Commands:\n",
    "\n",
    "* takeoff (auto takeoff)\n",
    "* land (auto landing)\n",
    "* emergency ( stops all motors)\n",
    "* up x (move up to 'x' cm above surface)\n",
    "* down x (move down to 'x' cm above surface)\n",
    "* forward/backward/left/right x (move 'x' cm in respective direction)\n",
    "* cw/ccw x (rotate 'x' degrees in respetive direction)\n"
   ]
  },
  {
   "cell_type": "code",
   "execution_count": null,
   "metadata": {},
   "outputs": [],
   "source": []
  }
 ],
 "metadata": {
  "kernelspec": {
   "display_name": "Python 3",
   "language": "python",
   "name": "python3"
  },
  "language_info": {
   "codemirror_mode": {
    "name": "ipython",
    "version": 3
   },
   "file_extension": ".py",
   "mimetype": "text/x-python",
   "name": "python",
   "nbconvert_exporter": "python",
   "pygments_lexer": "ipython3",
   "version": "3.7.4"
  }
 },
 "nbformat": 4,
 "nbformat_minor": 2
}
