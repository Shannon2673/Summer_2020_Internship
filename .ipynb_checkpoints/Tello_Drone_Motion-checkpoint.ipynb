{
 "cells": [
  {
   "cell_type": "markdown",
   "metadata": {},
   "source": [
    "## Drone Notebook\n",
    "\n",
    "This jupyter notebook is part of my 2020 summmer internship through Pacific University in Dr. Dawes' lab.\n",
    "\n",
    "The objective of this notebook is to write and implement code to maneuver a Tello Edu drone, with the final goal of aligning two drones for optics experiments."
   ]
  },
  {
   "cell_type": "code",
   "execution_count": 4,
   "metadata": {},
   "outputs": [],
   "source": [
    "import time\n",
    "import socket\n",
    "from tello import Tello\n",
    "\n"
   ]
  },
  {
   "cell_type": "code",
   "execution_count": null,
   "metadata": {},
   "outputs": [],
   "source": []
  },
  {
   "cell_type": "markdown",
   "metadata": {},
   "source": [
    "#### To Start\n",
    "1. make sure tello.py in in same folder as this notebook\n",
    "2. connect to Tello Drone wifi network"
   ]
  },
  {
   "cell_type": "markdown",
   "metadata": {},
   "source": [
    "Some example code:\n",
    "\n",
    "code modified from example on https://github.com/alecGraves/tello-udp"
   ]
  },
  {
   "cell_type": "code",
   "execution_count": 3,
   "metadata": {},
   "outputs": [
    {
     "ename": "OSError",
     "evalue": "[Errno 51] Network is unreachable",
     "output_type": "error",
     "traceback": [
      "\u001b[0;31m---------------------------------------------------------------------------\u001b[0m",
      "\u001b[0;31mOSError\u001b[0m                                   Traceback (most recent call last)",
      "\u001b[0;32m<ipython-input-3-1fe93329dcfb>\u001b[0m in \u001b[0;36m<module>\u001b[0;34m\u001b[0m\n\u001b[1;32m      4\u001b[0m \u001b[0;34m\u001b[0m\u001b[0m\n\u001b[1;32m      5\u001b[0m \u001b[0;31m# enable network commands on the drone\u001b[0m\u001b[0;34m\u001b[0m\u001b[0;34m\u001b[0m\u001b[0;34m\u001b[0m\u001b[0m\n\u001b[0;32m----> 6\u001b[0;31m \u001b[0mdrone\u001b[0m\u001b[0;34m.\u001b[0m\u001b[0msend\u001b[0m\u001b[0;34m(\u001b[0m\u001b[0;34m\"command\"\u001b[0m\u001b[0;34m)\u001b[0m\u001b[0;34m\u001b[0m\u001b[0;34m\u001b[0m\u001b[0m\n\u001b[0m\u001b[1;32m      7\u001b[0m \u001b[0;34m\u001b[0m\u001b[0m\n\u001b[1;32m      8\u001b[0m \u001b[0;31m# takeoff\u001b[0m\u001b[0;34m\u001b[0m\u001b[0;34m\u001b[0m\u001b[0;34m\u001b[0m\u001b[0m\n",
      "\u001b[0;32m~/Documents/GitHub/Summer_2020_Internship/tello.py\u001b[0m in \u001b[0;36msend\u001b[0;34m(self, message, verbose)\u001b[0m\n\u001b[1;32m     17\u001b[0m \u001b[0;34m\u001b[0m\u001b[0m\n\u001b[1;32m     18\u001b[0m     \u001b[0;32mdef\u001b[0m \u001b[0msend\u001b[0m\u001b[0;34m(\u001b[0m\u001b[0mself\u001b[0m\u001b[0;34m,\u001b[0m \u001b[0mmessage\u001b[0m\u001b[0;34m,\u001b[0m \u001b[0mverbose\u001b[0m\u001b[0;34m=\u001b[0m\u001b[0;32mFalse\u001b[0m\u001b[0;34m)\u001b[0m\u001b[0;34m:\u001b[0m\u001b[0;34m\u001b[0m\u001b[0;34m\u001b[0m\u001b[0m\n\u001b[0;32m---> 19\u001b[0;31m         \u001b[0mret\u001b[0m \u001b[0;34m=\u001b[0m \u001b[0mself\u001b[0m\u001b[0;34m.\u001b[0m\u001b[0msock\u001b[0m\u001b[0;34m.\u001b[0m\u001b[0msendto\u001b[0m\u001b[0;34m(\u001b[0m\u001b[0mbytes\u001b[0m\u001b[0;34m(\u001b[0m\u001b[0mmessage\u001b[0m\u001b[0;34m,\u001b[0m \u001b[0;34m'utf-8'\u001b[0m\u001b[0;34m)\u001b[0m\u001b[0;34m,\u001b[0m \u001b[0;34m(\u001b[0m\u001b[0mUDP_IP\u001b[0m\u001b[0;34m,\u001b[0m \u001b[0mUDP_PORT\u001b[0m\u001b[0;34m)\u001b[0m\u001b[0;34m)\u001b[0m\u001b[0;34m\u001b[0m\u001b[0;34m\u001b[0m\u001b[0m\n\u001b[0m\u001b[1;32m     20\u001b[0m         \u001b[0;32mif\u001b[0m \u001b[0mverbose\u001b[0m\u001b[0;34m:\u001b[0m\u001b[0;34m\u001b[0m\u001b[0;34m\u001b[0m\u001b[0m\n\u001b[1;32m     21\u001b[0m             \u001b[0mprint\u001b[0m\u001b[0;34m(\u001b[0m\u001b[0;34m'sent'\u001b[0m\u001b[0;34m,\u001b[0m \u001b[0;34m'\"'\u001b[0m\u001b[0;34m+\u001b[0m\u001b[0mmessage\u001b[0m\u001b[0;34m+\u001b[0m\u001b[0;34m'\"'\u001b[0m\u001b[0;34m)\u001b[0m\u001b[0;34m\u001b[0m\u001b[0;34m\u001b[0m\u001b[0m\n",
      "\u001b[0;31mOSError\u001b[0m: [Errno 51] Network is unreachable"
     ]
    }
   ],
   "source": [
    "# Declare a tello object\n",
    "#this is a lot like turtles in 3D\n",
    "drone = Tello()\n",
    "\n",
    "# enable network commands on the drone\n",
    "drone.send(\"command\")\n",
    "\n",
    "# takeoff\n",
    "drone.send(\"takeoff\")\n",
    "\n",
    "start = time.time()\n",
    "#initializes a start time\n",
    "\n",
    "# wait 30 seconds\n",
    "while time.time() - start < 30:\n",
    "    # get battery info to prevent tello connection from timing-out\n",
    "    # since tello auto-lands after 15 secs w/o a command\n",
    "    drone.send(\"battery?\")\n",
    "    time.sleep(1)\n",
    "\n",
    "# land the tello\n",
    "drone.send(\"land\")"
   ]
  },
  {
   "cell_type": "code",
   "execution_count": 22,
   "metadata": {},
   "outputs": [],
   "source": [
    "def real_time(drone,log=False):\n",
    "    \"\"\"This code is designed to put the user's tello drone into flight, then prompt the user \n",
    "    for commands in real time, as opposed to writing a long stream of commands in one code \n",
    "    cell\n",
    "    \n",
    "    parameters:\n",
    "    drone: tello drone object\n",
    "    optional boolean log: if true will return a log of commands used\"\"\"\n",
    "    \n",
    "    drone.send(\"command\")\n",
    "    #if the drone hasn't already been initialized to get commands this will do that\n",
    "    print(\"Type tello command and hit enter. Type and send 'quit' to exit this program\")\n",
    "    \n",
    "    running = True\n",
    "    \n",
    "    flight_log = []\n",
    "    \n",
    "    while running:\n",
    "        #starts an infinite loop\n",
    "        \n",
    "        task = input('')\n",
    "    #sends the message to the drone  \n",
    "        drone.send(task)\n",
    "        \n",
    "        if task == 'land':\n",
    "            running = False\n",
    "            \n",
    "        if log == True:\n",
    "            flight_log.append(task)\n",
    "            \n",
    "    if log == True:\n",
    "        return flight_log\n",
    "        \n",
    "        \n",
    "                 "
   ]
  },
  {
   "cell_type": "code",
   "execution_count": 23,
   "metadata": {},
   "outputs": [
    {
     "name": "stdout",
     "output_type": "stream",
     "text": [
      "Type tello command and hit enter. Type and send 'quit' to exit this program\n",
      "take off\n",
      "takeoff\n",
      "cw 90\n",
      "ccw 180\n",
      "ccw 90\n",
      "cw 90\n",
      "ccw90\n",
      "ccw 90\n",
      "land\n"
     ]
    }
   ],
   "source": [
    "real_time(drone)\n",
    "\n",
    "## notes: this works!"
   ]
  },
  {
   "cell_type": "code",
   "execution_count": 27,
   "metadata": {},
   "outputs": [],
   "source": [
    "def polygon(drone,sides):\n",
    "    \"\"\"code to make drone take off fly in the polygon shape with specified sides\n",
    "    \n",
    "    drone: drone object\n",
    "    sides: int number of sides of shape\"\"\"\n",
    "    \n",
    "    \n",
    "    \n",
    "    \n",
    "    angle = 360/sides\n",
    "    angle = int(angle)# has to be an int!\n",
    "    \n",
    "    drone.send('command')\n",
    "    drone.send('takeoff')\n",
    "     \n",
    "    #creates a start time\n",
    "    for i in range(0, sides):\n",
    "        print(i)\n",
    "        \n",
    "        drone.send('forward 20')\n",
    "        task = 'cw {0}'.format(angle)\n",
    "        print(task)\n",
    "        drone.send(task)\n",
    "    drone.send('land')\n",
    "        "
   ]
  },
  {
   "cell_type": "code",
   "execution_count": 28,
   "metadata": {},
   "outputs": [
    {
     "name": "stdout",
     "output_type": "stream",
     "text": [
      "0\n",
      "cw 72\n",
      "1\n",
      "cw 72\n",
      "2\n",
      "cw 72\n",
      "3\n",
      "cw 72\n",
      "4\n",
      "cw 72\n"
     ]
    }
   ],
   "source": [
    "polygon(drone,5) \n",
    "\n",
    "## notes my drone will follow some of the commands but not all of them\n",
    "# I might be able to fix this by adding a delay"
   ]
  },
  {
   "cell_type": "code",
   "execution_count": null,
   "metadata": {},
   "outputs": [],
   "source": [
    "drone.send(\"battery?\")"
   ]
  },
  {
   "cell_type": "code",
   "execution_count": null,
   "metadata": {},
   "outputs": [],
   "source": []
  },
  {
   "cell_type": "markdown",
   "metadata": {},
   "source": [
    "### List of Commands:\n",
    "#### (not all of them)\n",
    "\n",
    "Setting commands:\n",
    "\n",
    "* speed x\n",
    "\n",
    "sets the speed between 10 and 100 ( the manual didn't specify units, but I'm assuming cm/s?)\n",
    "\n",
    "ex: \"speed 10\"\n",
    "\n",
    "Mission pad commands:\n",
    "\n",
    "* mon\n",
    "\n",
    "turns on mission pad detection\n",
    "\n",
    "* moff \n",
    "\n",
    "turns off mission pad detection\n",
    "\n",
    "* mdirection x \n",
    "\n",
    "sets mission pad detection direction (must turn on detection first)\n",
    "\n",
    "0 = downward / 1 = forward / 2 = both\n",
    "\n",
    "Motion Commands:\n",
    "\n",
    "* takeoff (auto takeoff)\n",
    "* land (auto landing)\n",
    "* emergency ( stops all motors)\n",
    "* up x (move up to 'x' cm above surface)\n",
    "* down x (move down to 'x' cm above surface)\n",
    "* forward/backward/left/right x (move 'x' cm in respective direction)\n",
    "* cw/ccw x (rotate 'x' degrees in respetive direction)\n"
   ]
  },
  {
   "cell_type": "code",
   "execution_count": null,
   "metadata": {},
   "outputs": [],
   "source": []
  }
 ],
 "metadata": {
  "kernelspec": {
   "display_name": "Python 3",
   "language": "python",
   "name": "python3"
  },
  "language_info": {
   "codemirror_mode": {
    "name": "ipython",
    "version": 3
   },
   "file_extension": ".py",
   "mimetype": "text/x-python",
   "name": "python",
   "nbconvert_exporter": "python",
   "pygments_lexer": "ipython3",
   "version": "3.7.4"
  }
 },
 "nbformat": 4,
 "nbformat_minor": 2
}
