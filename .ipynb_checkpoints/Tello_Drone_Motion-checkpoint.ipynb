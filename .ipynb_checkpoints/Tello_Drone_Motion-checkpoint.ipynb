{
 "cells": [
  {
   "cell_type": "markdown",
   "metadata": {},
   "source": [
    "## Drone Notebook\n",
    "\n",
    "This jupyter notebook is part of my 2020 summmer internship through Pacific University in Dr. Dawes' lab.\n",
    "\n",
    "The objective of this notebook is to write and implement code to maneuver a Tello Edu drone, with the final goal of aligning two drones for optics experiments."
   ]
  },
  {
   "cell_type": "code",
   "execution_count": null,
   "metadata": {},
   "outputs": [],
   "source": [
    "import time\n",
    "from tello import Tello\n"
   ]
  },
  {
   "cell_type": "markdown",
   "metadata": {},
   "source": [
    "#### To Start\n",
    "1. make sure tello.py in in same folder as this notebook\n",
    "2. connect to Tello Drone wifi network"
   ]
  },
  {
   "cell_type": "markdown",
   "metadata": {},
   "source": [
    "Some example code:"
   ]
  },
  {
   "cell_type": "code",
   "execution_count": null,
   "metadata": {},
   "outputs": [],
   "source": [
    "# Declare a tello object\n",
    "#this is a lot like turtles in 3D\n",
    "drone = Tello()\n",
    "\n",
    "# enable network commands on the drone\n",
    "drone.send(\"command\")\n",
    "\n",
    "# takeoff\n",
    "drone.send(\"takeoff\")\n",
    "\n",
    "start = time.time()\n",
    "#initializes a start time\n",
    "\n",
    "# wait 30 seconds\n",
    "while time.time() - start < 30:\n",
    "    # get battery info to prevent tello connection from timing-out\n",
    "    # since tello auto-lands after 15 secs w/o a command\n",
    "    drone.send(\"battery?\")\n",
    "    time.sleep(1)\n",
    "\n",
    "# land the tello\n",
    "drone.send(\"land\")"
   ]
  },
  {
   "cell_type": "code",
   "execution_count": null,
   "metadata": {},
   "outputs": [],
   "source": [
    "def real_time(drone):\n",
    "    \"\"\"This code is designed to put the user's tello drone into flight, then prompt the user \n",
    "    for commands in real time, as opposed to writing a long stream of commands in one code \n",
    "    cell\"\"\"\n",
    "    \n",
    "    drone.send(\"command\")\n",
    "    #if the drone hasn't already been initialized to get commands this will do that\n",
    "    print(\"Type tello command and hit enter. Type and send 'quit' to exit this program\")\n",
    "    \n",
    "    running = True\n",
    "    \n",
    "    while running:\n",
    "        #starts an infinite loop\n",
    "        \n",
    "        task = input('')\n",
    "    #sends the message to the drone  \n",
    "    \n",
    "            \n",
    "        if 'quit' in task:\n",
    "            print(\"Exiting program successfully\")\n",
    "            drone.send(\"land\")\n",
    "            running = False\n",
    "        drone.send(task)\n",
    "        \n",
    "                 "
   ]
  },
  {
   "cell_type": "markdown",
   "metadata": {},
   "source": [
    "### List of Commands:\n",
    "#### (not all of them)\n",
    "\n",
    "Setting commands:\n",
    "\n",
    "* speed x\n",
    "\n",
    "sets the speed between 10 and 100 ( the manual didn't specify units, but I'm assuming cm/s?)\n",
    "\n",
    "ex: \"speed 10\"\n",
    "\n",
    "Mission pad commands:\n",
    "\n",
    "* mon\n",
    "\n",
    "turns on mission pad detection\n",
    "\n",
    "* moff \n",
    "\n",
    "turns off mission pad detection\n",
    "\n",
    "* mdirection x \n",
    "\n",
    "sets mission pad detection direction (must turn on detection first)\n",
    "\n",
    "0 = downward / 1 = forward / 2 = both\n",
    "\n",
    "Motion Commands:\n",
    "\n",
    "* takeoff (auto takeoff)\n",
    "* land (auto landing)\n",
    "* emergency ( stops all motors)\n",
    "* up x (move up to 'x' cm above surface)\n",
    "* down x (move down to 'x' cm above surface)\n",
    "* forward/backward/left/right x (move 'x' cm in respective direction)\n",
    "* cw/ccw x (rotate 'x' degrees in respetive direction)\n"
   ]
  },
  {
   "cell_type": "code",
   "execution_count": null,
   "metadata": {},
   "outputs": [],
   "source": []
  }
 ],
 "metadata": {
  "kernelspec": {
   "display_name": "Python 3",
   "language": "python",
   "name": "python3"
  },
  "language_info": {
   "codemirror_mode": {
    "name": "ipython",
    "version": 3
   },
   "file_extension": ".py",
   "mimetype": "text/x-python",
   "name": "python",
   "nbconvert_exporter": "python",
   "pygments_lexer": "ipython3",
   "version": "3.7.4"
  }
 },
 "nbformat": 4,
 "nbformat_minor": 2
}
